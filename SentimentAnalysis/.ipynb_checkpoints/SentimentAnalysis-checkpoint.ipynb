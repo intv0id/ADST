{
 "cells": [
  {
   "cell_type": "markdown",
   "metadata": {},
   "source": [
    "# Emotion rating classification using neuroimaging\n",
    "\n",
    "<img src=\"image1.PNG\" alt=\"Drawing\" style=\"width: 500px;\"/>\n",
    "\n",
    "This document is based on the following dataset : (NeuroVault collection 503)[https://neurovault.org/collections/503/]\n",
    "\n",
    "We also used this publication :\n",
    "\n",
    "*Chang LJ, Gianaros PJ, Manuck SB, Krishnan A, Wager TD (2015) A Sensitive and Specific Neural Signature for Picture-Induced Negative Affect. PLoS Biol 13(6): e1002180. https://doi.org/10.1371/journal.pbio.1002180*"
   ]
  },
  {
   "cell_type": "code",
   "execution_count": 1,
   "metadata": {},
   "outputs": [],
   "source": [
    "import scipy\n",
    "import pandas as pd \n",
    "import matplotlib.pyplot as plt\n",
    "import numpy as np\n",
    "\n",
    "from nilearn.datasets import fetch_neurovault_ids\n",
    "from nilearn import plotting\n",
    "from nilearn.image import new_img_like, load_img, math_img"
   ]
  },
  {
   "cell_type": "markdown",
   "metadata": {},
   "source": [
    "## Importing and cleaning data"
   ]
  },
  {
   "cell_type": "code",
   "execution_count": 2,
   "metadata": {
    "scrolled": true
   },
   "outputs": [],
   "source": [
    "collection = (503,)\n",
    "dataset = fetch_neurovault_ids(collection_ids=collection,\n",
    "                               #mode='overwrite',\n",
    "                               verbose=1 # 0 to 3\n",
    "                              )"
   ]
  },
  {
   "cell_type": "code",
   "execution_count": 3,
   "metadata": {},
   "outputs": [],
   "source": [
    "image_files = dataset[\"images\"]\n",
    "images_metadata = pd.DataFrame(dataset[\"images_meta\"])\n",
    "images_metadata = images_metadata[[\"SubjectID\", \n",
    "                                    \"AGE\",\"RACE\", \"SEX\",\n",
    "                                   \"Rating\", #Sentiment rating (1 to 5)                                    \n",
    "                                   \"YRS_SCH\",#Total years of school\n",
    "                                  ]]\n",
    "images_metadata.SubjectID = images_metadata.SubjectID.astype(int)\n",
    "images_metadata.RACE = images_metadata.RACE.astype('category')\n",
    "images_metadata.SEX = images_metadata.SEX.astype('category')"
   ]
  },
  {
   "cell_type": "code",
   "execution_count": 4,
   "metadata": {},
   "outputs": [
    {
     "name": "stdout",
     "output_type": "stream",
     "text": [
      "<class 'pandas.core.frame.DataFrame'>\n",
      "RangeIndex: 1674 entries, 0 to 1673\n",
      "Data columns (total 6 columns):\n",
      "SubjectID    1674 non-null int32\n",
      "AGE          1674 non-null int64\n",
      "RACE         1674 non-null category\n",
      "SEX          1674 non-null category\n",
      "Rating       1674 non-null int64\n",
      "YRS_SCH      1674 non-null int64\n",
      "dtypes: category(2), int32(1), int64(3)\n",
      "memory usage: 49.3 KB\n"
     ]
    }
   ],
   "source": [
    "images_metadata.info()"
   ]
  },
  {
   "cell_type": "code",
   "execution_count": 5,
   "metadata": {},
   "outputs": [
    {
     "data": {
      "text/html": [
       "<div>\n",
       "<style>\n",
       "    .dataframe thead tr:only-child th {\n",
       "        text-align: right;\n",
       "    }\n",
       "\n",
       "    .dataframe thead th {\n",
       "        text-align: left;\n",
       "    }\n",
       "\n",
       "    .dataframe tbody tr th {\n",
       "        vertical-align: top;\n",
       "    }\n",
       "</style>\n",
       "<table border=\"1\" class=\"dataframe\">\n",
       "  <thead>\n",
       "    <tr style=\"text-align: right;\">\n",
       "      <th></th>\n",
       "      <th>SubjectID</th>\n",
       "      <th>AGE</th>\n",
       "      <th>RACE</th>\n",
       "      <th>SEX</th>\n",
       "      <th>Rating</th>\n",
       "      <th>YRS_SCH</th>\n",
       "    </tr>\n",
       "  </thead>\n",
       "  <tbody>\n",
       "    <tr>\n",
       "      <th>0</th>\n",
       "      <td>102</td>\n",
       "      <td>30</td>\n",
       "      <td>White</td>\n",
       "      <td>Female</td>\n",
       "      <td>4</td>\n",
       "      <td>14</td>\n",
       "    </tr>\n",
       "    <tr>\n",
       "      <th>1</th>\n",
       "      <td>102</td>\n",
       "      <td>30</td>\n",
       "      <td>White</td>\n",
       "      <td>Female</td>\n",
       "      <td>3</td>\n",
       "      <td>14</td>\n",
       "    </tr>\n",
       "    <tr>\n",
       "      <th>2</th>\n",
       "      <td>102</td>\n",
       "      <td>30</td>\n",
       "      <td>White</td>\n",
       "      <td>Female</td>\n",
       "      <td>3</td>\n",
       "      <td>14</td>\n",
       "    </tr>\n",
       "    <tr>\n",
       "      <th>3</th>\n",
       "      <td>103</td>\n",
       "      <td>33</td>\n",
       "      <td>White</td>\n",
       "      <td>Female</td>\n",
       "      <td>5</td>\n",
       "      <td>18</td>\n",
       "    </tr>\n",
       "    <tr>\n",
       "      <th>4</th>\n",
       "      <td>103</td>\n",
       "      <td>33</td>\n",
       "      <td>White</td>\n",
       "      <td>Female</td>\n",
       "      <td>1</td>\n",
       "      <td>18</td>\n",
       "    </tr>\n",
       "  </tbody>\n",
       "</table>\n",
       "</div>"
      ],
      "text/plain": [
       "   SubjectID  AGE   RACE     SEX  Rating  YRS_SCH\n",
       "0        102   30  White  Female       4       14\n",
       "1        102   30  White  Female       3       14\n",
       "2        102   30  White  Female       3       14\n",
       "3        103   33  White  Female       5       18\n",
       "4        103   33  White  Female       1       18"
      ]
     },
     "execution_count": 5,
     "metadata": {},
     "output_type": "execute_result"
    }
   ],
   "source": [
    "images_metadata.head()"
   ]
  },
  {
   "cell_type": "markdown",
   "metadata": {},
   "source": [
    "## Dataset coherence"
   ]
  },
  {
   "cell_type": "code",
   "execution_count": 6,
   "metadata": {},
   "outputs": [
    {
     "data": {
      "image/png": "[encoded data removed]",
      "text/plain": [
       "<matplotlib.figure.Figure at 0x263f587d5f8>"
      ]
     },
     "metadata": {},
     "output_type": "display_data"
    }
   ],
   "source": [
    "images_metadata.groupby(\"SubjectID\", as_index=True).mean()[[\"AGE\"]]\\\n",
    "               .plot.hist(bins=20)\n",
    "plt.title(\"Age histogram\")\n",
    "plt.show()"
   ]
  },
  {
   "cell_type": "code",
   "execution_count": 7,
   "metadata": {},
   "outputs": [
    {
     "data": {
      "image/png": "[encoded data removed]",
      "text/plain": [
       "<matplotlib.figure.Figure at 0x263f5d63f28>"
      ]
     },
     "metadata": {},
     "output_type": "display_data"
    }
   ],
   "source": [
    "images_metadata.groupby('SEX').SEX.count().plot\\\n",
    "                               .pie(explode=(0, 0.1),\n",
    "                                    autopct='%1.1f%%')\n",
    "plt.ylabel('')\n",
    "plt.title(\"Gender repartition\")\n",
    "plt.show()"
   ]
  },
  {
   "cell_type": "code",
   "execution_count": 8,
   "metadata": {},
   "outputs": [
    {
     "data": {
      "image/png": "[encoded data removed]",
      "text/plain": [
       "<matplotlib.figure.Figure at 0x263f5e399b0>"
      ]
     },
     "metadata": {},
     "output_type": "display_data"
    }
   ],
   "source": [
    "images_metadata.groupby('RACE').RACE.count().plot\\\n",
    "                               .pie(explode=(0, 0.1, 0.1),\n",
    "                                    autopct='%1.1f%%')\n",
    "plt.ylabel('')\n",
    "plt.title(\"Race repartition\")\n",
    "plt.show()"
   ]
  },
  {
   "cell_type": "code",
   "execution_count": 9,
   "metadata": {},
   "outputs": [
    {
     "data": {
      "image/png": "[encoded data removed]",
      "text/plain": [
       "<matplotlib.figure.Figure at 0x263f60ddcf8>"
      ]
     },
     "metadata": {},
     "output_type": "display_data"
    }
   ],
   "source": [
    "images_metadata.groupby('Rating').Rating.plot.hist()\n",
    "plt.ylabel('')\n",
    "plt.title(\"Emotion rating\")\n",
    "plt.show()"
   ]
  },
  {
   "cell_type": "markdown",
   "metadata": {},
   "source": [
    "## Classification"
   ]
  },
  {
   "cell_type": "code",
   "execution_count": 15,
   "metadata": {
    "scrolled": true
   },
   "outputs": [],
   "source": [
    "from sklearn.svm import SVR, SVC\n",
    "from sklearn.feature_selection import VarianceThreshold, SelectKBest, f_regression, f_classif, chi2\n",
    "from sklearn.pipeline import Pipeline\n",
    "from sklearn.cross_validation import cross_val_score, train_test_split\n",
    "from sklearn.utils import check_random_state\n",
    "from nilearn.input_data import NiftiMasker"
   ]
  },
  {
   "cell_type": "code",
   "execution_count": 11,
   "metadata": {},
   "outputs": [],
   "source": [
    "masker = NiftiMasker(\n",
    "    standardize=False,\n",
    "    smoothing_fwhm=0,\n",
    "    memory='nilearn_cache')\n",
    "voxel_series = masker.fit_transform(image_files)"
   ]
  },
  {
   "cell_type": "code",
   "execution_count": 12,
   "metadata": {},
   "outputs": [],
   "source": [
    "from sklearn.metrics import make_scorer, accuracy_score\n",
    "\n",
    "scorer = make_scorer(accuracy_score)\n",
    "\n",
    "# Vector classification using a linear kernel (supervised learning)\n",
    "svc = SVC(kernel='linear')\n",
    "\n",
    "# Removing voxels with low variance between subjects\n",
    "variance_threshold = VarianceThreshold(threshold=0.01)"
   ]
  },
  {
   "cell_type": "markdown",
   "metadata": {},
   "source": [
    "### All features"
   ]
  },
  {
   "cell_type": "code",
   "execution_count": 20,
   "metadata": {},
   "outputs": [],
   "source": [
    "#Instructions for the training\n",
    "anova_svc = Pipeline([\n",
    "                      ('variance_threshold', variance_threshold),\n",
    "                      ('svc', svc)])#\\\n",
    "                    #.fit(training_voxel_series, scores_train)\n",
    "cv_scores = cross_val_score(anova_svc,\n",
    "                            voxel_series,\n",
    "                            images_metadata.Rating, # Uses all processing units\n",
    "                            cv=3, # 3 to limit the use of RAM\n",
    "                            n_jobs=-1,\n",
    "                            scoring=scorer)  "
   ]
  },
  {
   "cell_type": "code",
   "execution_count": 21,
   "metadata": {},
   "outputs": [
    {
     "name": "stdout",
     "output_type": "stream",
     "text": [
      "Accuracy : 14.3%\n",
      "Random predication accuracy : 20.0%\n"
     ]
    }
   ],
   "source": [
    "print(\"Accuracy : {:2.1f}%\".format(cv_scores.mean()*100))\n",
    "print(\"Random predication accuracy : {:2.1f}%\".format(100/5))"
   ]
  },
  {
   "cell_type": "markdown",
   "metadata": {},
   "source": [
    "### K-Best selection"
   ]
  },
  {
   "cell_type": "code",
   "execution_count": 13,
   "metadata": {},
   "outputs": [
    {
     "name": "stdout",
     "output_type": "stream",
     "text": [
      "Accuracy (10 bests) : 47.7%\n",
      "Accuracy (507 bests) : 42.7%\n",
      "Accuracy (1005 bests) : 37.6%\n",
      "Accuracy (1502 bests) : 36.3%\n",
      "Accuracy (2000 bests) : 35.3%\n"
     ]
    }
   ],
   "source": [
    "accuracy_history = {}\n",
    "for k in np.linspace(10, 2000, 5, dtype=int):\n",
    "    feature_selection = SelectKBest(f_classif, k)\n",
    "    #Instructions for the training\n",
    "    anova_svc = Pipeline([\n",
    "                          ('variance_threshold', variance_threshold),\n",
    "                          ('anova', feature_selection),\n",
    "                          ('svc', svc)])\n",
    "    cv_scores_kbest = cross_val_score(anova_svc,\n",
    "                                      voxel_series,\n",
    "                                      images_metadata.Rating.tolist(),\n",
    "                                      cv=5, # 5 is better \n",
    "                                      n_jobs=-1, # Uses all processing units\n",
    "                                      scoring=scorer) \n",
    "    accuracy_history[k] = cv_scores_kbest.mean()\n",
    "    print(\"Accuracy ({} bests) : {:2.1f}%\".format(k, \n",
    "                                                 cv_scores_kbest.mean()*100))"
   ]
  },
  {
   "cell_type": "code",
   "execution_count": null,
   "metadata": {},
   "outputs": [
    {
     "data": {
      "image/png": "[encoded data removed]",
      "text/plain": [
       "<matplotlib.figure.Figure at 0x193b2cbe518>"
      ]
     },
     "metadata": {},
     "output_type": "display_data"
    }
   ],
   "source": [
    "plt.plot(*zip(*(sorted(accuracy_history.items()))))\n",
    "plt.xlabel(\"k parameter\")\n",
    "plt.ylabel(\"accuracy\")\n",
    "plt.show()"
   ]
  },
  {
   "cell_type": "markdown",
   "metadata": {},
   "source": [
    "We can observe that the more voxels we use, the more the algorithm will become noise-sensitive and therefore difficult to train on small datasets."
   ]
  }
 ],
 "metadata": {
  "kernelspec": {
   "display_name": "Python 3",
   "language": "python",
   "name": "python3"
  },
  "language_info": {
   "codemirror_mode": {
    "name": "ipython",
    "version": 3
   },
   "file_extension": ".py",
   "mimetype": "text/x-python",
   "name": "python",
   "nbconvert_exporter": "python",
   "pygments_lexer": "ipython3",
   "version": "3.6.2"
  }
 },
 "nbformat": 4,
 "nbformat_minor": 2
}
