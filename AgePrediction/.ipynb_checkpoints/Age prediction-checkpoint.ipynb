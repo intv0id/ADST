{
 "cells": [
  {
   "cell_type": "markdown",
   "metadata": {},
   "source": [
    "# Age and dementia prediction from RMI data"
   ]
  },
  {
   "cell_type": "code",
   "execution_count": 31,
   "metadata": {},
   "outputs": [],
   "source": [
    "import numpy as np\n",
    "import matplotlib.pyplot as plt\n",
    "import pandas as pd\n",
    "\n",
    "from ipywidgets import interact\n",
    "import ipywidgets as widgets\n",
    "\n",
    "from nilearn.input_data import NiftiMasker, NiftiLabelsMasker\n",
    "from nilearn.plotting import plot_stat_map, show\n",
    "from nilearn.mass_univariate import permuted_ols\n",
    "\n",
    "from sklearn.svm import SVR\n",
    "from sklearn.feature_selection import VarianceThreshold, SelectKBest, f_regression\n",
    "from sklearn.pipeline import Pipeline\n",
    "from sklearn.cross_validation import cross_val_score, train_test_split\n",
    "from sklearn.utils import check_random_state"
   ]
  },
  {
   "cell_type": "code",
   "execution_count": 32,
   "metadata": {},
   "outputs": [],
   "source": [
    "n_subjects = 403 #The whole dataset\n",
    "training_part = .75"
   ]
  },
  {
   "cell_type": "markdown",
   "metadata": {},
   "source": [
    "## Methodology\n",
    "\n",
    "We use the MMSE test to quantify the mental health of patients. $ MMSE > 25 $ corresponds to normal scores, whereas smaller ones are generaly considered as a dementia symptom.\n",
    "\n",
    "* First we have to establish the data coherence inside the dataset, and to clean the data\n",
    "* Then we can provide a statistical analysis of the data\n",
    "* Finaly we can train and make predictions with a model\n",
    "\n",
    "Some of the code is extracted from :\n",
    "\n",
    "http://nilearn.github.io/auto_examples/02_decoding/plot_oasis_vbm.html#sphx-glr-auto-examples-02-decoding-plot-oasis-vbm-py\n",
    "\n",
    "Links:\n",
    "\n",
    "* http://nilearn.github.io/modules/reference.html#module-nilearn.datasets\n",
    "* http://nilearn.github.io/modules/generated/nilearn.datasets.fetch_oasis_vbm.html#nilearn.datasets.fetch_oasis_vbm\n",
    "* http://nilearn.github.io/modules/generated/nilearn.datasets.fetch_atlas_harvard_oxford.html#nilearn.datasets.fetch_atlas_harvard_oxford\n"
   ]
  },
  {
   "cell_type": "markdown",
   "metadata": {},
   "source": [
    "## Datasets"
   ]
  },
  {
   "cell_type": "code",
   "execution_count": 33,
   "metadata": {},
   "outputs": [],
   "source": [
    "from nilearn import datasets\n",
    "\n",
    "# MRI patients data\n",
    "oasis_dataset = datasets.fetch_oasis_vbm(n_subjects=n_subjects)\n",
    "gray_matter_map_filenames = oasis_dataset.gray_matter_maps\n",
    "oasis_infos_df = pd.DataFrame(oasis_dataset.ext_vars)"
   ]
  },
  {
   "cell_type": "code",
   "execution_count": 34,
   "metadata": {},
   "outputs": [],
   "source": [
    "# Data cleaning up\n",
    "oasis_infos_df.id = oasis_infos_df.id.str.decode(\"utf-8\")\n",
    "oasis_infos_df.mf = oasis_infos_df.mf.str.decode(\"utf-8\").astype('category')\n",
    "oasis_infos_df.hand = oasis_infos_df.hand.str.decode(\"utf-8\").astype('category')\n",
    "oasis_infos_df = oasis_infos_df.drop(labels='delay', axis=1)"
   ]
  },
  {
   "cell_type": "code",
   "execution_count": 35,
   "metadata": {},
   "outputs": [],
   "source": [
    "masker = NiftiMasker(\n",
    "    standardize=False,\n",
    "    smoothing_fwhm=2,\n",
    "    memory='nilearn_cache')\n",
    "oasis_voxel_series = masker.fit_transform(gray_matter_map_filenames)"
   ]
  },
  {
   "cell_type": "code",
   "execution_count": 36,
   "metadata": {},
   "outputs": [],
   "source": [
    "# Splitting the data into training and recall data\n",
    "random_state = check_random_state(42)\n",
    "training_voxel_series, recall_voxel_series, age_train, age_recall = \\\n",
    "    train_test_split(oasis_voxel_series,\n",
    "                     oasis_infos_df.age,\n",
    "                     train_size=training_part,\n",
    "                     random_state=random_state)"
   ]
  },
  {
   "cell_type": "markdown",
   "metadata": {},
   "source": [
    "## Dataset Coherence"
   ]
  },
  {
   "cell_type": "code",
   "execution_count": 37,
   "metadata": {},
   "outputs": [
    {
     "data": {
      "text/html": [
       "<div>\n",
       "<style>\n",
       "    .dataframe thead tr:only-child th {\n",
       "        text-align: right;\n",
       "    }\n",
       "\n",
       "    .dataframe thead th {\n",
       "        text-align: left;\n",
       "    }\n",
       "\n",
       "    .dataframe tbody tr th {\n",
       "        vertical-align: top;\n",
       "    }\n",
       "</style>\n",
       "<table border=\"1\" class=\"dataframe\">\n",
       "  <thead>\n",
       "    <tr style=\"text-align: right;\">\n",
       "      <th></th>\n",
       "      <th>id</th>\n",
       "      <th>mf</th>\n",
       "      <th>hand</th>\n",
       "      <th>age</th>\n",
       "      <th>educ</th>\n",
       "      <th>ses</th>\n",
       "      <th>mmse</th>\n",
       "      <th>cdr</th>\n",
       "      <th>etiv</th>\n",
       "      <th>nwbv</th>\n",
       "      <th>asf</th>\n",
       "    </tr>\n",
       "  </thead>\n",
       "  <tbody>\n",
       "    <tr>\n",
       "      <th>0</th>\n",
       "      <td>OAS1_0001_MR1</td>\n",
       "      <td>F</td>\n",
       "      <td>R</td>\n",
       "      <td>74</td>\n",
       "      <td>2</td>\n",
       "      <td>3</td>\n",
       "      <td>29</td>\n",
       "      <td>0.0</td>\n",
       "      <td>1344</td>\n",
       "      <td>0.743</td>\n",
       "      <td>1.306</td>\n",
       "    </tr>\n",
       "    <tr>\n",
       "      <th>1</th>\n",
       "      <td>OAS1_0002_MR1</td>\n",
       "      <td>F</td>\n",
       "      <td>R</td>\n",
       "      <td>55</td>\n",
       "      <td>4</td>\n",
       "      <td>1</td>\n",
       "      <td>29</td>\n",
       "      <td>0.0</td>\n",
       "      <td>1147</td>\n",
       "      <td>0.810</td>\n",
       "      <td>1.531</td>\n",
       "    </tr>\n",
       "    <tr>\n",
       "      <th>2</th>\n",
       "      <td>OAS1_0003_MR1</td>\n",
       "      <td>F</td>\n",
       "      <td>R</td>\n",
       "      <td>73</td>\n",
       "      <td>4</td>\n",
       "      <td>3</td>\n",
       "      <td>27</td>\n",
       "      <td>0.5</td>\n",
       "      <td>1454</td>\n",
       "      <td>0.708</td>\n",
       "      <td>1.207</td>\n",
       "    </tr>\n",
       "    <tr>\n",
       "      <th>3</th>\n",
       "      <td>OAS1_0004_MR1</td>\n",
       "      <td>M</td>\n",
       "      <td>R</td>\n",
       "      <td>28</td>\n",
       "      <td>-1</td>\n",
       "      <td>-1</td>\n",
       "      <td>-1</td>\n",
       "      <td>NaN</td>\n",
       "      <td>1588</td>\n",
       "      <td>0.803</td>\n",
       "      <td>1.105</td>\n",
       "    </tr>\n",
       "    <tr>\n",
       "      <th>4</th>\n",
       "      <td>OAS1_0005_MR1</td>\n",
       "      <td>M</td>\n",
       "      <td>R</td>\n",
       "      <td>18</td>\n",
       "      <td>-1</td>\n",
       "      <td>-1</td>\n",
       "      <td>-1</td>\n",
       "      <td>NaN</td>\n",
       "      <td>1737</td>\n",
       "      <td>0.848</td>\n",
       "      <td>1.010</td>\n",
       "    </tr>\n",
       "  </tbody>\n",
       "</table>\n",
       "</div>"
      ],
      "text/plain": [
       "              id mf hand  age  educ  ses  mmse  cdr  etiv   nwbv    asf\n",
       "0  OAS1_0001_MR1  F    R   74     2    3    29  0.0  1344  0.743  1.306\n",
       "1  OAS1_0002_MR1  F    R   55     4    1    29  0.0  1147  0.810  1.531\n",
       "2  OAS1_0003_MR1  F    R   73     4    3    27  0.5  1454  0.708  1.207\n",
       "3  OAS1_0004_MR1  M    R   28    -1   -1    -1  NaN  1588  0.803  1.105\n",
       "4  OAS1_0005_MR1  M    R   18    -1   -1    -1  NaN  1737  0.848  1.010"
      ]
     },
     "execution_count": 37,
     "metadata": {},
     "output_type": "execute_result"
    }
   ],
   "source": [
    "oasis_infos_df.head()"
   ]
  },
  {
   "cell_type": "code",
   "execution_count": 38,
   "metadata": {},
   "outputs": [
    {
     "data": {
      "image/png": "[encoded data removed]",
      "text/plain": [
       "<matplotlib.figure.Figure at 0x22810162588>"
      ]
     },
     "metadata": {},
     "output_type": "display_data"
    },
    {
     "name": "stdout",
     "output_type": "stream",
     "text": [
      "There are 226 patients submitted to the mmse test.\n",
      "However 177 haven't been tested.\n"
     ]
    }
   ],
   "source": [
    "tested_patients = oasis_infos_df.mmse >= 0\n",
    "oasis_infos_df[tested_patients].mmse.plot.hist(bins=20)\n",
    "plt.xlabel(\"MMSE Scores\")\n",
    "plt.ylabel(\"Number of people\")\n",
    "plt.title(\"MMSE scores distribution\")\n",
    "plt.show()\n",
    "\n",
    "print(\"There are {} patients submitted to the mmse test.\"\\\n",
    "      .format(oasis_infos_df[tested_patients].mmse.count()))\n",
    "print(\"However {} haven't been tested.\"\\\n",
    "      .format(oasis_infos_df[~tested_patients].mmse.count()))"
   ]
  },
  {
   "cell_type": "markdown",
   "metadata": {},
   "source": [
    "We only take into consideration the patients that have been tested."
   ]
  },
  {
   "cell_type": "code",
   "execution_count": 39,
   "metadata": {},
   "outputs": [
    {
     "data": {
      "image/png": "[encoded data removed]",
      "text/plain": [
       "<matplotlib.figure.Figure at 0x22810f3d048>"
      ]
     },
     "metadata": {},
     "output_type": "display_data"
    },
    {
     "data": {
      "image/png": "[encoded data removed]",
      "text/plain": [
       "<matplotlib.figure.Figure at 0x2281102d8d0>"
      ]
     },
     "metadata": {},
     "output_type": "display_data"
    }
   ],
   "source": [
    "oasis_infos_df[tested_patients].groupby(\"mf\").age.plot.hist(bins=np.arange(0, 100, 5), \n",
    "                                          stacked=True, legend=True)\n",
    "plt.xlabel(\"Ages\")\n",
    "plt.ylabel(\"Number of people\")\n",
    "plt.title(\"Ages distribution (tested patients)\")\n",
    "plt.show()\n",
    "\n",
    "oasis_infos_df.groupby(\"mf\").age.plot.hist(bins=np.arange(0, 100, 5), \n",
    "                                     stacked=True, legend=True)\n",
    "plt.xlabel(\"Ages\")\n",
    "plt.ylabel(\"Number of people\")\n",
    "plt.title(\"Ages distribution (all patients)\")\n",
    "plt.show()"
   ]
  },
  {
   "cell_type": "markdown",
   "metadata": {},
   "source": [
    "As we can see, **young patients haven't been systematicaly submited to the tests**.\n",
    "\n",
    "Note that these are cumulative bins, so that **there is sightly more women than men** in the dataset as mentionned below."
   ]
  },
  {
   "cell_type": "code",
   "execution_count": 40,
   "metadata": {},
   "outputs": [
    {
     "data": {
      "image/png": "[encoded data removed]",
      "text/plain": [
       "<matplotlib.figure.Figure at 0x22810117fd0>"
      ]
     },
     "metadata": {},
     "output_type": "display_data"
    }
   ],
   "source": [
    "oasis_infos_df[tested_patients].groupby('mf').mf.count().plot\\\n",
    "                               .pie(explode=(0, 0.1),\n",
    "                                    autopct='%1.1f%%')\n",
    "plt.ylabel('')\n",
    "plt.title(\"Gender repartition\")\n",
    "plt.show()"
   ]
  },
  {
   "cell_type": "markdown",
   "metadata": {},
   "source": [
    "## Statistical analysis"
   ]
  },
  {
   "cell_type": "code",
   "execution_count": 41,
   "metadata": {},
   "outputs": [],
   "source": [
    "age_limit = 60\n",
    "youngs = oasis_infos_df.age <= age_limit\n",
    "dement = np.logical_and(oasis_infos_df.mmse <= 25, tested_patients)\n",
    "healthy_elders = np.logical_and(~youngs, ~ dement)"
   ]
  },
  {
   "cell_type": "markdown",
   "metadata": {},
   "source": [
    "### Neural density mean : a naïve approach."
   ]
  },
  {
   "cell_type": "code",
   "execution_count": 42,
   "metadata": {},
   "outputs": [
    {
     "data": {
      "image/png": "[encoded data removed]",
      "text/plain": [
       "<matplotlib.figure.Figure at 0x228112eab38>"
      ]
     },
     "metadata": {},
     "output_type": "display_data"
    }
   ],
   "source": [
    "fig, axes = plt.subplots(ncols=3, sharey=True)\n",
    "fig.set_size_inches(12.5, 7.5)\n",
    "#pylab.ylim([0.2,0.7])\n",
    "plt.ylabel(\"Neural density\")\n",
    "plt.title(\"Neural density in hippocampus\")\n",
    "\n",
    "axes[0].boxplot(oasis_voxel_series[youngs].mean(axis=1).reshape((-1)))\n",
    "axes[1].boxplot(oasis_voxel_series[healthy_elders].mean(axis=1).reshape((-1)))\n",
    "axes[2].boxplot(oasis_voxel_series[dement].mean(axis=1).reshape((-1)))\n",
    "\n",
    "axes[0].set_title('Youngs ({} people)'\\\n",
    "                  .format(sum(youngs)))\n",
    "axes[1].set_title('Healthy elders ({} people)'\\\n",
    "                  .format(sum(healthy_elders)))\n",
    "axes[2].set_title('Suffering from dementia ({} people)'\\\n",
    "                  .format(sum(dement)))\n",
    "plt.show()"
   ]
  },
  {
   "cell_type": "markdown",
   "metadata": {},
   "source": [
    "We see that there is much less high neural density outliers in people suffering from dementia than from the other ones.\n",
    "\n",
    "Furthermore, the mean neural density of young is slightly better than for elder people."
   ]
  },
  {
   "cell_type": "markdown",
   "metadata": {},
   "source": [
    "### Exploiting the area atlas\n",
    "\n",
    "Now we will try to find the areas where there is the more important difference of density between the healthy subject and those who suffer from dementia.\n",
    "\n",
    "To achieve that, we calculate the neural density RMS in the dataset to extract to most valuable voxels (i.e. where the RMS is maximum)."
   ]
  },
  {
   "cell_type": "code",
   "execution_count": 43,
   "metadata": {},
   "outputs": [],
   "source": [
    "voxelwise_mean = oasis_voxel_series.mean(axis=0).reshape((1, -1))\n",
    "voxelwise_rms = np.sum((oasis_voxel_series - voxelwise_mean)**2, axis=0)\n",
    "sorted_voxels = sorted(enumerate(voxelwise_rms), key=lambda x:x[1], reverse=True)"
   ]
  },
  {
   "cell_type": "code",
   "execution_count": 44,
   "metadata": {},
   "outputs": [
    {
     "data": {
      "text/html": [
       "<div>\n",
       "<style>\n",
       "    .dataframe thead tr:only-child th {\n",
       "        text-align: right;\n",
       "    }\n",
       "\n",
       "    .dataframe thead th {\n",
       "        text-align: left;\n",
       "    }\n",
       "\n",
       "    .dataframe tbody tr th {\n",
       "        vertical-align: top;\n",
       "    }\n",
       "</style>\n",
       "<table border=\"1\" class=\"dataframe\">\n",
       "  <thead>\n",
       "    <tr style=\"text-align: right;\">\n",
       "      <th></th>\n",
       "      <th>Voxel index</th>\n",
       "      <th>RMS</th>\n",
       "    </tr>\n",
       "  </thead>\n",
       "  <tbody>\n",
       "    <tr>\n",
       "      <th>0</th>\n",
       "      <td>617904</td>\n",
       "      <td>78.837067</td>\n",
       "    </tr>\n",
       "    <tr>\n",
       "      <th>1</th>\n",
       "      <td>290396</td>\n",
       "      <td>77.710297</td>\n",
       "    </tr>\n",
       "    <tr>\n",
       "      <th>2</th>\n",
       "      <td>290305</td>\n",
       "      <td>77.061989</td>\n",
       "    </tr>\n",
       "    <tr>\n",
       "      <th>3</th>\n",
       "      <td>617813</td>\n",
       "      <td>76.158211</td>\n",
       "    </tr>\n",
       "    <tr>\n",
       "      <th>4</th>\n",
       "      <td>597794</td>\n",
       "      <td>75.473068</td>\n",
       "    </tr>\n",
       "  </tbody>\n",
       "</table>\n",
       "</div>"
      ],
      "text/plain": [
       "   Voxel index        RMS\n",
       "0       617904  78.837067\n",
       "1       290396  77.710297\n",
       "2       290305  77.061989\n",
       "3       617813  76.158211\n",
       "4       597794  75.473068"
      ]
     },
     "execution_count": 44,
     "metadata": {},
     "output_type": "execute_result"
    }
   ],
   "source": [
    "# Most valuables voxels\n",
    "pd.DataFrame(sorted_voxels[:5], columns=[\"Voxel index\", \"RMS\"])"
   ]
  },
  {
   "cell_type": "code",
   "execution_count": 45,
   "metadata": {},
   "outputs": [
    {
     "data": {
      "text/html": [
       "<div>\n",
       "<style>\n",
       "    .dataframe thead tr:only-child th {\n",
       "        text-align: right;\n",
       "    }\n",
       "\n",
       "    .dataframe thead th {\n",
       "        text-align: left;\n",
       "    }\n",
       "\n",
       "    .dataframe tbody tr th {\n",
       "        vertical-align: top;\n",
       "    }\n",
       "</style>\n",
       "<table border=\"1\" class=\"dataframe\">\n",
       "  <thead>\n",
       "    <tr style=\"text-align: right;\">\n",
       "      <th></th>\n",
       "      <th>Voxel index</th>\n",
       "      <th>RMS</th>\n",
       "    </tr>\n",
       "  </thead>\n",
       "  <tbody>\n",
       "    <tr>\n",
       "      <th>0</th>\n",
       "      <td>3185</td>\n",
       "      <td>6.046246e-09</td>\n",
       "    </tr>\n",
       "    <tr>\n",
       "      <th>1</th>\n",
       "      <td>3549</td>\n",
       "      <td>5.932095e-09</td>\n",
       "    </tr>\n",
       "    <tr>\n",
       "      <th>2</th>\n",
       "      <td>3367</td>\n",
       "      <td>5.896388e-09</td>\n",
       "    </tr>\n",
       "    <tr>\n",
       "      <th>3</th>\n",
       "      <td>3458</td>\n",
       "      <td>5.820567e-09</td>\n",
       "    </tr>\n",
       "    <tr>\n",
       "      <th>4</th>\n",
       "      <td>0</td>\n",
       "      <td>1.078960e-10</td>\n",
       "    </tr>\n",
       "  </tbody>\n",
       "</table>\n",
       "</div>"
      ],
      "text/plain": [
       "   Voxel index           RMS\n",
       "0         3185  6.046246e-09\n",
       "1         3549  5.932095e-09\n",
       "2         3367  5.896388e-09\n",
       "3         3458  5.820567e-09\n",
       "4            0  1.078960e-10"
      ]
     },
     "execution_count": 45,
     "metadata": {},
     "output_type": "execute_result"
    }
   ],
   "source": [
    "# Least valuable voxels\n",
    "pd.DataFrame(sorted_voxels[-5:], columns=[\"Voxel index\", \"RMS\"])"
   ]
  },
  {
   "cell_type": "markdown",
   "metadata": {},
   "source": [
    "## Using Regression"
   ]
  },
  {
   "cell_type": "code",
   "execution_count": 46,
   "metadata": {},
   "outputs": [],
   "source": [
    "def classifying(k):\n",
    "    # Vector classification using a linear kernel (supervised learning)\n",
    "    svr = SVR(kernel='linear')\n",
    "    # Removing voxels with low variance between subjects\n",
    "    variance_threshold = VarianceThreshold(threshold=0.01)\n",
    "    #Using analysis of variance (anova) feature selection\n",
    "    feature_selection = SelectKBest(f_regression, k) # /!!!!!!!!!!!!!!!\\ k VERY IMPORTANT : TO DISCUSS\n",
    "    #Instructions for the training\n",
    "    anova_svr = Pipeline([\n",
    "                          ('variance_threshold', variance_threshold),\n",
    "                          ('anova', feature_selection),\n",
    "                          ('svr', svr)])\\\n",
    "                        .fit(training_voxel_series, age_train)\n",
    "    return anova_svr, svr, feature_selection, variance_threshold\n",
    "\n",
    "def classifying_predictor(*args):\n",
    "    return classifying(*args)[0]\n",
    "    \n",
    "def test(classifyer, dataset=recall_voxel_series, ages=age_recall):\n",
    "    return np.abs(classifyer.predict(dataset) - ages).mean()    "
   ]
  },
  {
   "cell_type": "code",
   "execution_count": 47,
   "metadata": {},
   "outputs": [
    {
     "data": {
      "image/png": "[encoded data removed]",
      "text/plain": [
       "<matplotlib.figure.Figure at 0x228f8d1de48>"
      ]
     },
     "metadata": {},
     "output_type": "display_data"
    }
   ],
   "source": [
    "k_values=np.linspace(1, 2000, 10, dtype=int)\n",
    "classifyers = np.vectorize(classifying_predictor)(k_values)\n",
    "errors = np.vectorize(test)(classifyers)\n",
    "plt.plot(k_values, errors)\n",
    "plt.xlabel(\"k (number of selected voxels)\")\n",
    "plt.ylabel(\"Mean absolute error (age prediction)\")\n",
    "plt.show()"
   ]
  },
  {
   "cell_type": "code",
   "execution_count": 48,
   "metadata": {},
   "outputs": [
    {
     "name": "stdout",
     "output_type": "stream",
     "text": [
      "Mean age error of the prediction on the training dataset : 4.369016822438917\n",
      "Mean age error of the prediction on the recall dataset : 9.596347855443163\n"
     ]
    }
   ],
   "source": [
    "selected_classifyer = classifyers[-1]\n",
    "# Test over the training set\n",
    "age_pred = np.abs(selected_classifyer.predict(training_voxel_series) - age_train).mean()\n",
    "print(\"Mean age error of the prediction on the training dataset : {}\".format(age_pred))\n",
    "# Test prediction over the recall set\n",
    "age_pred = np.abs(selected_classifyer.predict(recall_voxel_series) - age_recall).mean()\n",
    "print(\"Mean age error of the prediction on the recall dataset : {}\".format(age_pred))"
   ]
  },
  {
   "cell_type": "code",
   "execution_count": 49,
   "metadata": {},
   "outputs": [],
   "source": [
    "# reverse selection\n",
    "anova_svr, coef, feature_selection, variance_threshold = classifying(2000)\n",
    "coef = coef.coef_\n",
    "coef = feature_selection.inverse_transform(coef)\n",
    "coef = variance_threshold.inverse_transform(coef)\n",
    "weight_img = masker.inverse_transform(coef)\n",
    "\n",
    "# Create the figure\n",
    "bg_filename = gray_matter_map_filenames[0]"
   ]
  },
  {
   "cell_type": "code",
   "execution_count": 50,
   "metadata": {},
   "outputs": [
    {
     "data": {
      "application/vnd.jupyter.widget-view+json": {
       "model_id": "aaef432ec7ad431da31556a1f9dd734a",
       "version_major": 2,
       "version_minor": 0
      },
      "text/html": [
       "<p>Failed to display Jupyter Widget of type <code>interactive</code>.</p>\n",
       "<p>\n",
       "  If you're reading this message in the Jupyter Notebook or JupyterLab Notebook, it may mean\n",
       "  that the widgets JavaScript is still loading. If this message persists, it\n",
       "  likely means that the widgets JavaScript library is either not installed or\n",
       "  not enabled. See the <a href=\"https://ipywidgets.readthedocs.io/en/stable/user_install.html\">Jupyter\n",
       "  Widgets Documentation</a> for setup instructions.\n",
       "</p>\n",
       "<p>\n",
       "  If you're reading this message in another frontend (for example, a static\n",
       "  rendering on GitHub or <a href=\"https://nbviewer.jupyter.org/\">NBViewer</a>),\n",
       "  it may mean that your frontend doesn't currently support widgets.\n",
       "</p>\n"
      ],
      "text/plain": [
       "interactive(children=(IntSlider(value=0, description='z_slice', min=-100, step=5), Button(description='Run Interact', style=ButtonStyle()), Output()), _dom_classes=('widget-interact',))"
      ]
     },
     "metadata": {},
     "output_type": "display_data"
    },
    {
     "data": {
      "image/png": "[encoded data removed]",
      "text/plain": [
       "<matplotlib.figure.Figure at 0x22811562748>"
      ]
     },
     "metadata": {},
     "output_type": "display_data"
    }
   ],
   "source": [
    "from ipywidgets import interact, interact_manual\n",
    "import ipywidgets as widgets\n",
    "\n",
    "slider = widgets.IntSlider(min=-100,max=100,step=5,value=0)\n",
    "\n",
    "@interact_manual(z_slice=slider)\n",
    "def plot_svm_weights(z_slice):\n",
    "    fig = plt.figure(figsize=(5.5, 7.5), facecolor='k')\n",
    "    display = plot_stat_map(weight_img,\n",
    "                            bg_img=bg_filename,\n",
    "                            display_mode='z',\n",
    "                            cut_coords=[z_slice],\n",
    "                            figure=fig,\n",
    "                            vmax=1)\n",
    "    display.title('SVM weights', y=1.2)\n",
    "    show()\n",
    "plot_svm_weights(0)\n",
    "show()"
   ]
  },
  {
   "cell_type": "markdown",
   "metadata": {},
   "source": [
    "We can now observe that the Hippocampus is highly involved in the aging of the brain."
   ]
  }
 ],
 "metadata": {
  "kernelspec": {
   "display_name": "Python 3",
   "language": "python",
   "name": "python3"
  },
  "language_info": {
   "codemirror_mode": {
    "name": "ipython",
    "version": 3
   },
   "file_extension": ".py",
   "mimetype": "text/x-python",
   "name": "python",
   "nbconvert_exporter": "python",
   "pygments_lexer": "ipython3",
   "version": "3.6.2"
  },
  "widgets": {
   "application/vnd.jupyter.widget-state+json": {
    "state": {
     "0932a79cb40746ba9832249b65d0ed45": {
      "model_module": "jupyter-js-widgets",
      "model_module_version": "~2.1.4",
      "model_name": "VBoxModel",
      "state": {
       "_dom_classes": [
        "widget-interact"
       ],
       "_model_module_version": "~2.1.4",
       "_view_module_version": "~2.1.4",
       "children": [
        "IPY_MODEL_b4d4b6423af0482f974aed708867a2dc",
        "IPY_MODEL_f786f98e99b34e1095dcaded466551fe"
       ],
       "layout": "IPY_MODEL_d04426b25430494ba6aac66cdc1fdae2"
      }
     },
     "0986276b2c6241e1a770c3f138f24abf": {
      "model_module": "jupyter-js-widgets",
      "model_module_version": "~2.1.4",
      "model_name": "LayoutModel",
      "state": {
       "_model_module_version": "~2.1.4",
       "_view_module_version": "~2.1.4"
      }
     },
     "09c23a0f6f2942209749d9ffa6497811": {
      "model_module": "jupyter-js-widgets",
      "model_module_version": "~2.1.4",
      "model_name": "LayoutModel",
      "state": {
       "_model_module_version": "~2.1.4",
       "_view_module_version": "~2.1.4"
      }
     },
     "0e4ef8b3bf054b018d8b9a31fda9fe3a": {
      "model_module": "jupyter-js-widgets",
      "model_module_version": "~2.1.4",
      "model_name": "LayoutModel",
      "state": {
       "_model_module_version": "~2.1.4",
       "_view_module_version": "~2.1.4"
      }
     },
     "0e9ddd5f934942b8b34b99f6ba988611": {
      "model_module": "jupyter-js-widgets",
      "model_module_version": "~2.1.4",
      "model_name": "LayoutModel",
      "state": {
       "_model_module_version": "~2.1.4",
       "_view_module_version": "~2.1.4"
      }
     },
     "1ac4a41ad81d4668be937fb1d0886a12": {
      "model_module": "jupyter-js-widgets",
      "model_module_version": "~2.1.4",
      "model_name": "IntSliderModel",
      "state": {
       "_model_module_version": "~2.1.4",
       "_view_module_version": "~2.1.4",
       "description": "z_slice",
       "layout": "IPY_MODEL_1e8ca3ae928249d887a202cb14071feb",
       "min": -100,
       "step": 5,
       "style": "IPY_MODEL_6efa3b4882e847549da93e5d56b98e6d"
      }
     },
     "1c11a4cfe200416e8e3f7d3300de85c1": {
      "model_module": "jupyter-js-widgets",
      "model_module_version": "~2.1.4",
      "model_name": "VBoxModel",
      "state": {
       "_dom_classes": [
        "widget-interact"
       ],
       "_model_module_version": "~2.1.4",
       "_view_module_version": "~2.1.4",
       "children": [
        "IPY_MODEL_edaf8f067c004b3ea1bc3749675b2959",
        "IPY_MODEL_4fdf5208cdfc431d92ce23327a8e3fcf"
       ],
       "layout": "IPY_MODEL_607ec401d241452b9d1d06106240b964"
      }
     },
     "1e0379dc359346b8b1c930f4545de329": {
      "model_module": "jupyter-js-widgets",
      "model_module_version": "~2.1.4",
      "model_name": "LayoutModel",
      "state": {
       "_model_module_version": "~2.1.4",
       "_view_module_version": "~2.1.4"
      }
     },
     "1e8ca3ae928249d887a202cb14071feb": {
      "model_module": "jupyter-js-widgets",
      "model_module_version": "~2.1.4",
      "model_name": "LayoutModel",
      "state": {
       "_model_module_version": "~2.1.4",
       "_view_module_version": "~2.1.4"
      }
     },
     "2337f7f9b1b34b54b4b040ba726cefc6": {
      "model_module": "jupyter-js-widgets",
      "model_module_version": "~2.1.4",
      "model_name": "OutputModel",
      "state": {
       "_dom_classes": [],
       "_model_module": "jupyter-js-widgets",
       "_model_module_version": "~2.1.4",
       "_view_module": "jupyter-js-widgets",
       "_view_module_version": "~2.1.4",
       "layout": "IPY_MODEL_dc9c997fc656405ea9c58fa9e0b1d510",
       "msg_throttle": 1
      }
     },
     "259782aed24843e18a96e6fe8d2d76e2": {
      "model_module": "jupyter-js-widgets",
      "model_module_version": "~2.1.4",
      "model_name": "LayoutModel",
      "state": {
       "_model_module_version": "~2.1.4",
       "_view_module_version": "~2.1.4"
      }
     },
     "2d2a858e443b44929d254876eab5ad89": {
      "model_module": "jupyter-js-widgets",
      "model_module_version": "~2.1.4",
      "model_name": "VBoxModel",
      "state": {
       "_dom_classes": [
        "widget-interact"
       ],
       "_model_module_version": "~2.1.4",
       "_view_module_version": "~2.1.4",
       "children": [
        "IPY_MODEL_deaf15e4acee4f2c9896dbbe1c466ff6",
        "IPY_MODEL_744eff46dbf44c87879b4b304d4d6ffc"
       ],
       "layout": "IPY_MODEL_65cef0c76ee241e5942e8f498815845d"
      }
     },
     "316e9c66748b4cbcb3a1333786eabbed": {
      "model_module": "jupyter-js-widgets",
      "model_module_version": "~2.1.4",
      "model_name": "SliderStyleModel",
      "state": {
       "_model_module_version": "~2.1.4",
       "_view_module_version": "~2.1.4"
      }
     },
     "348e91f3e0cf4b26ba08c6564d893b88": {
      "model_module": "jupyter-js-widgets",
      "model_module_version": "~2.1.4",
      "model_name": "LayoutModel",
      "state": {
       "_model_module_version": "~2.1.4",
       "_view_module_version": "~2.1.4"
      }
     },
     "37d20f4c584a4b9cab03159ffa61828d": {
      "model_module": "jupyter-js-widgets",
      "model_module_version": "~2.1.4",
      "model_name": "LayoutModel",
      "state": {
       "_model_module_version": "~2.1.4",
       "_view_module_version": "~2.1.4"
      }
     },
     "439b95a974db4526927da194e12800cf": {
      "model_module": "jupyter-js-widgets",
      "model_module_version": "~2.1.4",
      "model_name": "VBoxModel",
      "state": {
       "_dom_classes": [
        "widget-interact"
       ],
       "_model_module_version": "~2.1.4",
       "_view_module_version": "~2.1.4",
       "children": [
        "IPY_MODEL_668d62cc1d704a879e22a18fcd15d24e",
        "IPY_MODEL_f437d11c9ca044619bd5591c86e203c8"
       ],
       "layout": "IPY_MODEL_ae354541f18b49dfaa4c16f6977d49f6"
      }
     },
     "4cd47bbd9ee34188b630c5f31c2ebb05": {
      "model_module": "jupyter-js-widgets",
      "model_module_version": "~2.1.4",
      "model_name": "VBoxModel",
      "state": {
       "_dom_classes": [
        "widget-interact"
       ],
       "_model_module_version": "~2.1.4",
       "_view_module_version": "~2.1.4",
       "children": [
        "IPY_MODEL_1ac4a41ad81d4668be937fb1d0886a12",
        "IPY_MODEL_2337f7f9b1b34b54b4b040ba726cefc6"
       ],
       "layout": "IPY_MODEL_a75876455ec74968b357b1bcc0d6574e"
      }
     },
     "4d783d30916b435abdbd8b841112b208": {
      "model_module": "jupyter-js-widgets",
      "model_module_version": "~2.1.4",
      "model_name": "VBoxModel",
      "state": {
       "_dom_classes": [
        "widget-interact"
       ],
       "_model_module_version": "~2.1.4",
       "_view_module_version": "~2.1.4",
       "children": [
        "IPY_MODEL_d99cc21f8f804d32bcfcbf8e38410cb0",
        "IPY_MODEL_d9982217a72a45fcb93974a4e89218de"
       ],
       "layout": "IPY_MODEL_c97fdd90a75043238be1fc149ef35594"
      }
     },
     "4f2e2f417e86470c9184d951367214a1": {
      "model_module": "jupyter-js-widgets",
      "model_module_version": "~2.1.4",
      "model_name": "LayoutModel",
      "state": {
       "_model_module_version": "~2.1.4",
       "_view_module_version": "~2.1.4"
      }
     },
     "4f65fcbd8a0a4132af0f5c58a5653ab8": {
      "model_module": "jupyter-js-widgets",
      "model_module_version": "~2.1.4",
      "model_name": "LayoutModel",
      "state": {
       "_model_module_version": "~2.1.4",
       "_view_module_version": "~2.1.4"
      }
     },
     "4fd1f6592def4e9798a9e12ba2a434a1": {
      "model_module": "jupyter-js-widgets",
      "model_module_version": "~2.1.4",
      "model_name": "LayoutModel",
      "state": {
       "_model_module_version": "~2.1.4",
       "_view_module_version": "~2.1.4"
      }
     },
     "4fdf5208cdfc431d92ce23327a8e3fcf": {
      "model_module": "jupyter-js-widgets",
      "model_module_version": "~2.1.4",
      "model_name": "OutputModel",
      "state": {
       "_dom_classes": [],
       "_model_module": "jupyter-js-widgets",
       "_model_module_version": "~2.1.4",
       "_view_module": "jupyter-js-widgets",
       "_view_module_version": "~2.1.4",
       "layout": "IPY_MODEL_bcbfceb8c68447af93168cf7abf01a3b",
       "msg_throttle": 1
      }
     },
     "513d0b3f750741b09a753ceae45eaeb6": {
      "model_module": "jupyter-js-widgets",
      "model_module_version": "~2.1.4",
      "model_name": "SliderStyleModel",
      "state": {
       "_model_module_version": "~2.1.4",
       "_view_module_version": "~2.1.4"
      }
     },
     "5771258ac0d6425da356a2b086681ddb": {
      "model_module": "jupyter-js-widgets",
      "model_module_version": "~2.1.4",
      "model_name": "OutputModel",
      "state": {
       "_dom_classes": [],
       "_model_module": "jupyter-js-widgets",
       "_model_module_version": "~2.1.4",
       "_view_module": "jupyter-js-widgets",
       "_view_module_version": "~2.1.4",
       "layout": "IPY_MODEL_64ba1e965eb54c7eaa1d9e11d521ce2e",
       "msg_throttle": 1
      }
     },
     "5bf43514d5c846e396ee3d9e02999fd8": {
      "model_module": "jupyter-js-widgets",
      "model_module_version": "~2.1.4",
      "model_name": "OutputModel",
      "state": {
       "_dom_classes": [],
       "_model_module": "jupyter-js-widgets",
       "_model_module_version": "~2.1.4",
       "_view_module": "jupyter-js-widgets",
       "_view_module_version": "~2.1.4",
       "layout": "IPY_MODEL_c0d7948b850140d2a13bdda877c577cb",
       "msg_throttle": 1
      }
     },
     "5e9b99eaa82341fbb1e8b195cb6af197": {
      "model_module": "jupyter-js-widgets",
      "model_module_version": "~2.1.4",
      "model_name": "LayoutModel",
      "state": {
       "_model_module_version": "~2.1.4",
       "_view_module_version": "~2.1.4"
      }
     },
     "607ec401d241452b9d1d06106240b964": {
      "model_module": "jupyter-js-widgets",
      "model_module_version": "~2.1.4",
      "model_name": "LayoutModel",
      "state": {
       "_model_module_version": "~2.1.4",
       "_view_module_version": "~2.1.4"
      }
     },
     "64ba1e965eb54c7eaa1d9e11d521ce2e": {
      "model_module": "jupyter-js-widgets",
      "model_module_version": "~2.1.4",
      "model_name": "LayoutModel",
      "state": {
       "_model_module_version": "~2.1.4",
       "_view_module_version": "~2.1.4"
      }
     },
     "65cef0c76ee241e5942e8f498815845d": {
      "model_module": "jupyter-js-widgets",
      "model_module_version": "~2.1.4",
      "model_name": "LayoutModel",
      "state": {
       "_model_module_version": "~2.1.4",
       "_view_module_version": "~2.1.4"
      }
     },
     "668d62cc1d704a879e22a18fcd15d24e": {
      "model_module": "jupyter-js-widgets",
      "model_module_version": "~2.1.4",
      "model_name": "IntSliderModel",
      "state": {
       "_model_module_version": "~2.1.4",
       "_view_module_version": "~2.1.4",
       "description": "z_slice",
       "layout": "IPY_MODEL_c09f0b721a7245938886f13e37472fe1",
       "min": -100,
       "step": 5,
       "style": "IPY_MODEL_316e9c66748b4cbcb3a1333786eabbed"
      }
     },
     "6efa3b4882e847549da93e5d56b98e6d": {
      "model_module": "jupyter-js-widgets",
      "model_module_version": "~2.1.4",
      "model_name": "SliderStyleModel",
      "state": {
       "_model_module_version": "~2.1.4",
       "_view_module_version": "~2.1.4"
      }
     },
     "744eff46dbf44c87879b4b304d4d6ffc": {
      "model_module": "jupyter-js-widgets",
      "model_module_version": "~2.1.4",
      "model_name": "OutputModel",
      "state": {
       "_dom_classes": [],
       "_model_module": "jupyter-js-widgets",
       "_model_module_version": "~2.1.4",
       "_view_module": "jupyter-js-widgets",
       "_view_module_version": "~2.1.4",
       "layout": "IPY_MODEL_c79411f8553340df86be0ccde7de9ee0",
       "msg_throttle": 1
      }
     },
     "75ae109e89f44928a03ddb4bdfa7728f": {
      "model_module": "jupyter-js-widgets",
      "model_module_version": "~2.1.4",
      "model_name": "SliderStyleModel",
      "state": {
       "_model_module_version": "~2.1.4",
       "_view_module_version": "~2.1.4"
      }
     },
     "75e51164ded3496bbe7bc9692c8183e2": {
      "model_module": "jupyter-js-widgets",
      "model_module_version": "~2.1.4",
      "model_name": "IntSliderModel",
      "state": {
       "_model_module_version": "~2.1.4",
       "_view_module_version": "~2.1.4",
       "description": "z_slice",
       "layout": "IPY_MODEL_09c23a0f6f2942209749d9ffa6497811",
       "min": -100,
       "step": 5,
       "style": "IPY_MODEL_bb8edc061a02424f86ae2597e6ed7801"
      }
     },
     "8d41a386d6d54633b8b049cf9afa0fe1": {
      "model_module": "jupyter-js-widgets",
      "model_module_version": "~2.1.4",
      "model_name": "IntSliderModel",
      "state": {
       "_model_module_version": "~2.1.4",
       "_view_module_version": "~2.1.4",
       "description": "z_slice",
       "layout": "IPY_MODEL_4f2e2f417e86470c9184d951367214a1",
       "min": -100,
       "step": 5,
       "style": "IPY_MODEL_90d0f19a3bce465f83427e914c91dca3"
      }
     },
     "8fe1e1b2d7cb4f54a94d51b3b72152f5": {
      "model_module": "jupyter-js-widgets",
      "model_module_version": "~2.1.4",
      "model_name": "SliderStyleModel",
      "state": {
       "_model_module_version": "~2.1.4",
       "_view_module_version": "~2.1.4"
      }
     },
     "90d0f19a3bce465f83427e914c91dca3": {
      "model_module": "jupyter-js-widgets",
      "model_module_version": "~2.1.4",
      "model_name": "SliderStyleModel",
      "state": {
       "_model_module_version": "~2.1.4",
       "_view_module_version": "~2.1.4"
      }
     },
     "92c15f06700b4d8c84e68c41161e7f30": {
      "model_module": "jupyter-js-widgets",
      "model_module_version": "~2.1.4",
      "model_name": "VBoxModel",
      "state": {
       "_dom_classes": [
        "widget-interact"
       ],
       "_model_module_version": "~2.1.4",
       "_view_module_version": "~2.1.4",
       "children": [
        "IPY_MODEL_75e51164ded3496bbe7bc9692c8183e2",
        "IPY_MODEL_5771258ac0d6425da356a2b086681ddb"
       ],
       "layout": "IPY_MODEL_1e0379dc359346b8b1c930f4545de329"
      }
     },
     "972341818c7541baaa92a6060833e965": {
      "model_module": "jupyter-js-widgets",
      "model_module_version": "~2.1.4",
      "model_name": "LayoutModel",
      "state": {
       "_model_module_version": "~2.1.4",
       "_view_module_version": "~2.1.4"
      }
     },
     "9dc7f9ffd1e44b088cde57a485918c8a": {
      "model_module": "jupyter-js-widgets",
      "model_module_version": "~2.1.4",
      "model_name": "SliderStyleModel",
      "state": {
       "_model_module_version": "~2.1.4",
       "_view_module_version": "~2.1.4"
      }
     },
     "a75876455ec74968b357b1bcc0d6574e": {
      "model_module": "jupyter-js-widgets",
      "model_module_version": "~2.1.4",
      "model_name": "LayoutModel",
      "state": {
       "_model_module_version": "~2.1.4",
       "_view_module_version": "~2.1.4"
      }
     },
     "ae354541f18b49dfaa4c16f6977d49f6": {
      "model_module": "jupyter-js-widgets",
      "model_module_version": "~2.1.4",
      "model_name": "LayoutModel",
      "state": {
       "_model_module_version": "~2.1.4",
       "_view_module_version": "~2.1.4"
      }
     },
     "ae62644e2da54b2fbabef68298e34b82": {
      "model_module": "jupyter-js-widgets",
      "model_module_version": "~2.1.4",
      "model_name": "OutputModel",
      "state": {
       "_dom_classes": [],
       "_model_module": "jupyter-js-widgets",
       "_model_module_version": "~2.1.4",
       "_view_module": "jupyter-js-widgets",
       "_view_module_version": "~2.1.4",
       "layout": "IPY_MODEL_0e9ddd5f934942b8b34b99f6ba988611",
       "msg_throttle": 1
      }
     },
     "b09829ecfc0a4a6485b5ae38fa4379fd": {
      "model_module": "jupyter-js-widgets",
      "model_module_version": "~2.1.4",
      "model_name": "OutputModel",
      "state": {
       "_dom_classes": [],
       "_model_module": "jupyter-js-widgets",
       "_model_module_version": "~2.1.4",
       "_view_module": "jupyter-js-widgets",
       "_view_module_version": "~2.1.4",
       "layout": "IPY_MODEL_d68e6a87f2ea4cb092ed03f071536aec",
       "msg_throttle": 1
      }
     },
     "b443d0c9e0294fc5bab913ba8b9d7fb3": {
      "model_module": "jupyter-js-widgets",
      "model_module_version": "~2.1.4",
      "model_name": "IntSliderModel",
      "state": {
       "_model_module_version": "~2.1.4",
       "_view_module_version": "~2.1.4",
       "description": "z_slice",
       "layout": "IPY_MODEL_d17fb5b776394845826e8c534f451fa6",
       "min": -100,
       "step": 5,
       "style": "IPY_MODEL_9dc7f9ffd1e44b088cde57a485918c8a"
      }
     },
     "b4d4b6423af0482f974aed708867a2dc": {
      "model_module": "jupyter-js-widgets",
      "model_module_version": "~2.1.4",
      "model_name": "IntSliderModel",
      "state": {
       "_model_module_version": "~2.1.4",
       "_view_module_version": "~2.1.4",
       "description": "z_slice",
       "layout": "IPY_MODEL_ce315b656e3341629a239e4a70f708b9",
       "min": -100,
       "step": 5,
       "style": "IPY_MODEL_8fe1e1b2d7cb4f54a94d51b3b72152f5"
      }
     },
     "b6a37053781a49ff81a3966a508396d1": {
      "model_module": "jupyter-js-widgets",
      "model_module_version": "~2.1.4",
      "model_name": "SliderStyleModel",
      "state": {
       "_model_module_version": "~2.1.4",
       "_view_module_version": "~2.1.4"
      }
     },
     "bb8edc061a02424f86ae2597e6ed7801": {
      "model_module": "jupyter-js-widgets",
      "model_module_version": "~2.1.4",
      "model_name": "SliderStyleModel",
      "state": {
       "_model_module_version": "~2.1.4",
       "_view_module_version": "~2.1.4"
      }
     },
     "bcbfceb8c68447af93168cf7abf01a3b": {
      "model_module": "jupyter-js-widgets",
      "model_module_version": "~2.1.4",
      "model_name": "LayoutModel",
      "state": {
       "_model_module_version": "~2.1.4",
       "_view_module_version": "~2.1.4"
      }
     },
     "c09f0b721a7245938886f13e37472fe1": {
      "model_module": "jupyter-js-widgets",
      "model_module_version": "~2.1.4",
      "model_name": "LayoutModel",
      "state": {
       "_model_module_version": "~2.1.4",
       "_view_module_version": "~2.1.4"
      }
     },
     "c0d7948b850140d2a13bdda877c577cb": {
      "model_module": "jupyter-js-widgets",
      "model_module_version": "~2.1.4",
      "model_name": "LayoutModel",
      "state": {
       "_model_module_version": "~2.1.4",
       "_view_module_version": "~2.1.4"
      }
     },
     "c79411f8553340df86be0ccde7de9ee0": {
      "model_module": "jupyter-js-widgets",
      "model_module_version": "~2.1.4",
      "model_name": "LayoutModel",
      "state": {
       "_model_module_version": "~2.1.4",
       "_view_module_version": "~2.1.4"
      }
     },
     "c918ead696924136adce5ed1c7b266d3": {
      "model_module": "jupyter-js-widgets",
      "model_module_version": "~2.1.4",
      "model_name": "VBoxModel",
      "state": {
       "_dom_classes": [
        "widget-interact"
       ],
       "_model_module_version": "~2.1.4",
       "_view_module_version": "~2.1.4",
       "children": [
        "IPY_MODEL_cb88f302da0341158deb381fe91bad2b",
        "IPY_MODEL_ae62644e2da54b2fbabef68298e34b82"
       ],
       "layout": "IPY_MODEL_0986276b2c6241e1a770c3f138f24abf"
      }
     },
     "c97fdd90a75043238be1fc149ef35594": {
      "model_module": "jupyter-js-widgets",
      "model_module_version": "~2.1.4",
      "model_name": "LayoutModel",
      "state": {
       "_model_module_version": "~2.1.4",
       "_view_module_version": "~2.1.4"
      }
     },
     "cb88f302da0341158deb381fe91bad2b": {
      "model_module": "jupyter-js-widgets",
      "model_module_version": "~2.1.4",
      "model_name": "IntSliderModel",
      "state": {
       "_model_module_version": "~2.1.4",
       "_view_module_version": "~2.1.4",
       "description": "z_slice",
       "layout": "IPY_MODEL_cf872f371eb54332bedcf04cf2deca51",
       "min": -100,
       "step": 5,
       "style": "IPY_MODEL_ce2e0490fbf84525a2d39c4d7d8abf9d"
      }
     },
     "ce2e0490fbf84525a2d39c4d7d8abf9d": {
      "model_module": "jupyter-js-widgets",
      "model_module_version": "~2.1.4",
      "model_name": "SliderStyleModel",
      "state": {
       "_model_module_version": "~2.1.4",
       "_view_module_version": "~2.1.4"
      }
     },
     "ce315b656e3341629a239e4a70f708b9": {
      "model_module": "jupyter-js-widgets",
      "model_module_version": "~2.1.4",
      "model_name": "LayoutModel",
      "state": {
       "_model_module_version": "~2.1.4",
       "_view_module_version": "~2.1.4"
      }
     },
     "cf872f371eb54332bedcf04cf2deca51": {
      "model_module": "jupyter-js-widgets",
      "model_module_version": "~2.1.4",
      "model_name": "LayoutModel",
      "state": {
       "_model_module_version": "~2.1.4",
       "_view_module_version": "~2.1.4"
      }
     },
     "d04426b25430494ba6aac66cdc1fdae2": {
      "model_module": "jupyter-js-widgets",
      "model_module_version": "~2.1.4",
      "model_name": "LayoutModel",
      "state": {
       "_model_module_version": "~2.1.4",
       "_view_module_version": "~2.1.4"
      }
     },
     "d17fb5b776394845826e8c534f451fa6": {
      "model_module": "jupyter-js-widgets",
      "model_module_version": "~2.1.4",
      "model_name": "LayoutModel",
      "state": {
       "_model_module_version": "~2.1.4",
       "_view_module_version": "~2.1.4"
      }
     },
     "d68e6a87f2ea4cb092ed03f071536aec": {
      "model_module": "jupyter-js-widgets",
      "model_module_version": "~2.1.4",
      "model_name": "LayoutModel",
      "state": {
       "_model_module_version": "~2.1.4",
       "_view_module_version": "~2.1.4"
      }
     },
     "d9982217a72a45fcb93974a4e89218de": {
      "model_module": "jupyter-js-widgets",
      "model_module_version": "~2.1.4",
      "model_name": "OutputModel",
      "state": {
       "_dom_classes": [],
       "_model_module": "jupyter-js-widgets",
       "_model_module_version": "~2.1.4",
       "_view_module": "jupyter-js-widgets",
       "_view_module_version": "~2.1.4",
       "layout": "IPY_MODEL_4f65fcbd8a0a4132af0f5c58a5653ab8",
       "msg_throttle": 1
      }
     },
     "d99cc21f8f804d32bcfcbf8e38410cb0": {
      "model_module": "jupyter-js-widgets",
      "model_module_version": "~2.1.4",
      "model_name": "IntSliderModel",
      "state": {
       "_model_module_version": "~2.1.4",
       "_view_module_version": "~2.1.4",
       "description": "z_slice",
       "layout": "IPY_MODEL_37d20f4c584a4b9cab03159ffa61828d",
       "min": -100,
       "step": 5,
       "style": "IPY_MODEL_b6a37053781a49ff81a3966a508396d1",
       "value": -10
      }
     },
     "dc46a1ac4857446a96fff49bf684fbc6": {
      "model_module": "jupyter-js-widgets",
      "model_module_version": "~2.1.4",
      "model_name": "VBoxModel",
      "state": {
       "_dom_classes": [
        "widget-interact"
       ],
       "_model_module_version": "~2.1.4",
       "_view_module_version": "~2.1.4",
       "children": [
        "IPY_MODEL_8d41a386d6d54633b8b049cf9afa0fe1",
        "IPY_MODEL_b09829ecfc0a4a6485b5ae38fa4379fd"
       ],
       "layout": "IPY_MODEL_972341818c7541baaa92a6060833e965"
      }
     },
     "dc9c997fc656405ea9c58fa9e0b1d510": {
      "model_module": "jupyter-js-widgets",
      "model_module_version": "~2.1.4",
      "model_name": "LayoutModel",
      "state": {
       "_model_module_version": "~2.1.4",
       "_view_module_version": "~2.1.4"
      }
     },
     "deaf15e4acee4f2c9896dbbe1c466ff6": {
      "model_module": "jupyter-js-widgets",
      "model_module_version": "~2.1.4",
      "model_name": "IntSliderModel",
      "state": {
       "_model_module_version": "~2.1.4",
       "_view_module_version": "~2.1.4",
       "description": "z_slice",
       "layout": "IPY_MODEL_259782aed24843e18a96e6fe8d2d76e2",
       "min": -100,
       "step": 5,
       "style": "IPY_MODEL_75ae109e89f44928a03ddb4bdfa7728f"
      }
     },
     "edaf8f067c004b3ea1bc3749675b2959": {
      "model_module": "jupyter-js-widgets",
      "model_module_version": "~2.1.4",
      "model_name": "IntSliderModel",
      "state": {
       "_model_module_version": "~2.1.4",
       "_view_module_version": "~2.1.4",
       "description": "z_slice",
       "layout": "IPY_MODEL_5e9b99eaa82341fbb1e8b195cb6af197",
       "min": -100,
       "step": 5,
       "style": "IPY_MODEL_513d0b3f750741b09a753ceae45eaeb6",
       "value": 5
      }
     },
     "f437d11c9ca044619bd5591c86e203c8": {
      "model_module": "jupyter-js-widgets",
      "model_module_version": "~2.1.4",
      "model_name": "OutputModel",
      "state": {
       "_dom_classes": [],
       "_model_module": "jupyter-js-widgets",
       "_model_module_version": "~2.1.4",
       "_view_module": "jupyter-js-widgets",
       "_view_module_version": "~2.1.4",
       "layout": "IPY_MODEL_4fd1f6592def4e9798a9e12ba2a434a1",
       "msg_throttle": 1
      }
     },
     "f786f98e99b34e1095dcaded466551fe": {
      "model_module": "jupyter-js-widgets",
      "model_module_version": "~2.1.4",
      "model_name": "OutputModel",
      "state": {
       "_dom_classes": [],
       "_model_module": "jupyter-js-widgets",
       "_model_module_version": "~2.1.4",
       "_view_module": "jupyter-js-widgets",
       "_view_module_version": "~2.1.4",
       "layout": "IPY_MODEL_0e4ef8b3bf054b018d8b9a31fda9fe3a",
       "msg_throttle": 1
      }
     },
     "f7d56b5381c54204bb0ef185de1b98de": {
      "model_module": "jupyter-js-widgets",
      "model_module_version": "~2.1.4",
      "model_name": "VBoxModel",
      "state": {
       "_dom_classes": [
        "widget-interact"
       ],
       "_model_module_version": "~2.1.4",
       "_view_module_version": "~2.1.4",
       "children": [
        "IPY_MODEL_b443d0c9e0294fc5bab913ba8b9d7fb3",
        "IPY_MODEL_5bf43514d5c846e396ee3d9e02999fd8"
       ],
       "layout": "IPY_MODEL_348e91f3e0cf4b26ba08c6564d893b88"
      }
     }
    },
    "version_major": 1,
    "version_minor": 0
   }
  }
 },
 "nbformat": 4,
 "nbformat_minor": 2
}
